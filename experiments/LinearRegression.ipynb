{
 "cells": [
  {
   "cell_type": "code",
   "execution_count": 31,
   "id": "a9abf3e6",
   "metadata": {},
   "outputs": [],
   "source": [
    "from typing import List, Optional\n",
    "from autograd import grad, jacobian, elementwise_grad\n",
    "import numpy as np\n",
    "import matplotlib.pyplot as plt\n",
    "import sys, os\n",
    "from tqdm import tqdm\n",
    "import math\n",
    "import scipy \n",
    "from scipy import linalg\n",
    "from numpy import linalg as LA\n",
    "from pyblas.level1 import dnrm2\n",
    "\n",
    "sys.path.insert(0, os.path.join(\"..\"))\n",
    "%reload_ext autoreload\n",
    "%autoreload 2"
   ]
  },
  {
   "cell_type": "code",
   "execution_count": 32,
   "id": "21809ac0",
   "metadata": {},
   "outputs": [],
   "source": [
    "from lib import problems as pr\n",
    "from lib import optimisers as opt\n",
    "from lib import utils as ut\n",
    "from lib.linear_regression import LinearRegression"
   ]
  },
  {
   "cell_type": "code",
   "execution_count": 33,
   "id": "104029cf",
   "metadata": {},
   "outputs": [
    {
     "name": "stdout",
     "output_type": "stream",
     "text": [
      "[-0.65532729  0.28720459 -0.86017707 -0.81866791  0.82712401  0.77318593\n",
      " -2.54153236 -1.10766991 -0.33876364 -0.17692821  2.16201875 -0.30823611\n",
      "  1.54057455 -0.10525889 -1.90589223  1.33716934  0.34026533 -0.59851532\n",
      "  0.76931348  0.37434671]\n"
     ]
    }
   ],
   "source": [
    "nx=10\n",
    "ny=20\n",
    "problem = LinearRegression.with_parameters(nx=nx, ny=ny, L_x_mu_x=1, L_xy=0.5, mu_xy=0.05)"
   ]
  },
  {
   "cell_type": "code",
   "execution_count": 34,
   "id": "ed65eaf4",
   "metadata": {},
   "outputs": [
    {
     "name": "stdout",
     "output_type": "stream",
     "text": [
      "0.5000000000000001 9.813718686774626e-10\n"
     ]
    }
   ],
   "source": [
    "print(problem.L_xy, problem.mu_xy)"
   ]
  },
  {
   "cell_type": "code",
   "execution_count": 35,
   "id": "65005d51",
   "metadata": {},
   "outputs": [
    {
     "name": "stdout",
     "output_type": "stream",
     "text": [
      "4.256307731321995\n",
      "[-0.60204779 -1.10391485 -0.13692766 -0.42335906  0.80371821 -0.94137085\n",
      " -0.28111162 -0.23765802  0.68002452  0.15046532]\n",
      "[-0.56229514 -1.07836633  0.75791645  1.17915701 -1.82297647 -1.21479624\n",
      "  3.11643016  0.96851435  0.14419551  1.17735427 -2.18681505  0.05669394\n",
      " -2.95591834 -0.01195996  3.98845571 -3.51471929 -1.06315537  0.54536967\n",
      " -0.92043185 -1.02311297]\n"
     ]
    }
   ],
   "source": [
    "print(problem.loss(np.ones(nx), -np.ones(ny)))\n",
    "print(problem.xopt)\n",
    "print(problem.yopt)"
   ]
  },
  {
   "cell_type": "code",
   "execution_count": 38,
   "id": "2a432268",
   "metadata": {},
   "outputs": [
    {
     "name": "stderr",
     "output_type": "stream",
     "text": [
      "APDG:  45%|████████████▉                | 224/500 [00:00<00:00, 2681.28it/s]\n",
      "AltGD:  23%|██████▍                     | 116/500 [00:00<00:00, 1620.40it/s]\n",
      "LPD:  13%|████                           | 66/500 [00:00<00:00, 2342.08it/s]\n"
     ]
    }
   ],
   "source": [
    "params = {\"apdg\": None,\n",
    "          'lpd': None,\n",
    "          'altgd': None\n",
    "         }\n",
    "\n",
    "x0 = np.random.randn(nx, )\n",
    "y0 = np.random.randn(ny, )\n",
    "iteration = 500\n",
    "methods_dict = ut.main(problem, iteration, x0.copy(), y0.copy(), params, eps=1e-15)"
   ]
  },
  {
   "cell_type": "code",
   "execution_count": 39,
   "id": "b4512c50",
   "metadata": {
    "scrolled": true
   },
   "outputs": [
    {
     "data": {
      "text/plain": [
       "<matplotlib.legend.Legend at 0x7f2059163f90>"
      ]
     },
     "execution_count": 39,
     "metadata": {},
     "output_type": "execute_result"
    },
    {
     "data": {
      "image/png": "[encoded data removed]",
      "text/plain": [
       "<Figure size 432x288 with 1 Axes>"
      ]
     },
     "metadata": {
      "needs_background": "light"
     },
     "output_type": "display_data"
    }
   ],
   "source": [
    "%matplotlib inline\n",
    "plot_interval = 1\n",
    "markevery=5\n",
    "for method in methods_dict:\n",
    "    if method in [\"APDG\", \"LPD\", \"AltGD\"]:\n",
    "        plt.semilogy(np.arange(0, len(methods_dict[method][\"loss_hist\"])+plot_interval-1, plot_interval),\n",
    "                     methods_dict[method][\"loss_hist\"][::plot_interval],\n",
    "                     methods_dict[method][\"marker\"],\n",
    "                     markevery=markevery,\n",
    "                     label=method\n",
    "                    )\n",
    "plt.legend()"
   ]
  }
 ],
 "metadata": {
  "kernelspec": {
   "display_name": "Python 3",
   "language": "python",
   "name": "python3"
  },
  "language_info": {
   "codemirror_mode": {
    "name": "ipython",
    "version": 3
   },
   "file_extension": ".py",
   "mimetype": "text/x-python",
   "name": "python",
   "nbconvert_exporter": "python",
   "pygments_lexer": "ipython3",
   "version": "3.7.12"
  }
 },
 "nbformat": 4,
 "nbformat_minor": 5
}
