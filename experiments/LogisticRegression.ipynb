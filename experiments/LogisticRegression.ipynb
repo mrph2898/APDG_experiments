{
 "cells": [
  {
   "cell_type": "code",
   "execution_count": 401,
   "id": "a9abf3e6",
   "metadata": {},
   "outputs": [],
   "source": [
    "from typing import List, Optional\n",
    "from autograd import grad, jacobian, elementwise_grad\n",
    "import numpy as np\n",
    "import matplotlib.pyplot as plt\n",
    "import sys, os\n",
    "from tqdm import tqdm\n",
    "import math\n",
    "import scipy \n",
    "from scipy import linalg\n",
    "from numpy import linalg as LA\n",
    "from pyblas.level1 import dnrm2\n",
    "\n",
    "sys.path.insert(0, os.path.join(\"..\"))\n",
    "%reload_ext autoreload\n",
    "%autoreload 2"
   ]
  },
  {
   "cell_type": "code",
   "execution_count": 402,
   "id": "21809ac0",
   "metadata": {},
   "outputs": [],
   "source": [
    "from lib import problems as pr\n",
    "from lib import optimisers as opt\n",
    "from lib import utils as ut\n",
    "from lib.logistic_regression import LogisticRegression"
   ]
  },
  {
   "cell_type": "code",
   "execution_count": 403,
   "id": "104029cf",
   "metadata": {},
   "outputs": [],
   "source": [
    "nx=10\n",
    "ny=10\n",
    "problem = LogisticRegression.with_parameters(nx=nx, ny=ny, L_x_mu_x=20, L_xy=1.1, mu_xy=1)"
   ]
  },
  {
   "cell_type": "code",
   "execution_count": 404,
   "id": "ed65eaf4",
   "metadata": {},
   "outputs": [
    {
     "name": "stdout",
     "output_type": "stream",
     "text": [
      "1.0999999999999999 1.0000000000000002\n"
     ]
    }
   ],
   "source": [
    "print(problem.L_xy, problem.mu_xy)"
   ]
  },
  {
   "cell_type": "code",
   "execution_count": 405,
   "id": "65005d51",
   "metadata": {},
   "outputs": [
    {
     "name": "stdout",
     "output_type": "stream",
     "text": [
      "3.184619512532994\n",
      "[-0.04873708 -0.01087938  0.02462784 -0.01514081 -0.02435911 -0.02265254\n",
      "  0.00454192  0.01814569 -0.0153208   0.02161749]\n",
      "[-0.43506076  0.43882318 -0.43911733 -0.43699507 -0.43620244 -0.4348083\n",
      " -0.44337381 -0.43481976 -0.44217018 -0.43467471]\n"
     ]
    }
   ],
   "source": [
    "print(problem.loss(np.ones(nx), -np.ones(ny)))\n",
    "print(problem.xopt)\n",
    "print(problem.yopt)"
   ]
  },
  {
   "cell_type": "code",
   "execution_count": 406,
   "id": "2a432268",
   "metadata": {},
   "outputs": [
    {
     "name": "stderr",
     "output_type": "stream",
     "text": [
      "APDG:  44%|████████████▎               | 875/2000 [00:00<00:00, 1883.94it/s]\n",
      "AltGD:  47%|████████████▋              | 938/2000 [00:00<00:00, 1179.01it/s]\n",
      "/home/flacon/.local/lib/python3.11/site-packages/autograd/tracer.py:48: RuntimeWarning: invalid value encountered in log\n",
      "  return f_raw(*args, **kwargs)\n",
      "LPD:  14%|████                         | 284/2000 [00:00<00:00, 1858.69it/s]\n"
     ]
    }
   ],
   "source": [
    "params = {\"apdg\": None,\n",
    "          'lpd': None,\n",
    "          'altgd': None\n",
    "         }\n",
    "\n",
    "x0 = np.random.randn(nx, )\n",
    "y0 = np.random.randn(ny, )\n",
    "iteration = 2000\n",
    "methods_dict = ut.main(problem, iteration, x0.copy(), y0.copy(), params, eps=1e-6)"
   ]
  },
  {
   "cell_type": "code",
   "execution_count": 407,
   "id": "b4512c50",
   "metadata": {},
   "outputs": [
    {
     "data": {
      "text/plain": [
       "<matplotlib.legend.Legend at 0x7f5bc6312a50>"
      ]
     },
     "execution_count": 407,
     "metadata": {},
     "output_type": "execute_result"
    },
    {
     "data": {
      "image/png": "[encoded data removed]",
      "text/plain": [
       "<Figure size 432x288 with 1 Axes>"
      ]
     },
     "metadata": {
      "needs_background": "light"
     },
     "output_type": "display_data"
    }
   ],
   "source": [
    "%matplotlib inline\n",
    "plot_interval = 1\n",
    "markevery=5\n",
    "for method in methods_dict:\n",
    "    if method in [\"APDG\", \"LPD\", \"AltGD\"]:\n",
    "        plt.semilogy(np.arange(0, len(methods_dict[method][\"loss_hist\"])+plot_interval-1, plot_interval),\n",
    "                     methods_dict[method][\"loss_hist\"][::plot_interval],\n",
    "                     methods_dict[method][\"marker\"],\n",
    "                     markevery=markevery,\n",
    "                     label=method\n",
    "                    )\n",
    "plt.legend()"
   ]
  },
  {
   "cell_type": "code",
   "execution_count": 400,
   "id": "941c19a9",
   "metadata": {},
   "outputs": [
    {
     "name": "stdout",
     "output_type": "stream",
     "text": [
      "[ 0.43691067 -0.44185496 -0.43795974  0.44722603 -0.43935775  0.43643552\n",
      " -0.43819913 -0.4326601  -0.43615361  0.43765524]\n"
     ]
    }
   ],
   "source": [
    "print(methods_dict[\"LPD\"][\"y_hist\"][-1])"
   ]
  },
  {
   "cell_type": "code",
   "execution_count": null,
   "id": "66cc0739",
   "metadata": {},
   "outputs": [],
   "source": []
  }
 ],
 "metadata": {
  "kernelspec": {
   "display_name": "Python 3 (ipykernel)",
   "language": "python",
   "name": "python3"
  },
  "language_info": {
   "codemirror_mode": {
    "name": "ipython",
    "version": 3
   },
   "file_extension": ".py",
   "mimetype": "text/x-python",
   "name": "python",
   "nbconvert_exporter": "python",
   "pygments_lexer": "ipython3",
   "version": "3.11.0"
  }
 },
 "nbformat": 4,
 "nbformat_minor": 5
}
