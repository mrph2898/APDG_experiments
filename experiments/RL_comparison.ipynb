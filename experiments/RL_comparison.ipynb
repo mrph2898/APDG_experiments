{
 "cells": [
  {
   "cell_type": "code",
   "execution_count": 42,
   "id": "a33fce0a-7262-466a-b2ed-568fac7d167c",
   "metadata": {},
   "outputs": [
    {
     "name": "stdout",
     "output_type": "stream",
     "text": [
      "The autoreload extension is already loaded. To reload it, use:\n",
      "  %reload_ext autoreload\n"
     ]
    }
   ],
   "source": [
    "from typing import List, Optional\n",
    "from autograd import grad, jacobian, elementwise_grad\n",
    "import autograd.numpy as np\n",
    "import matplotlib.pyplot as plt\n",
    "import sys, os\n",
    "from tqdm import tqdm\n",
    "import math\n",
    "import scipy \n",
    "from scipy import linalg\n",
    "from numpy import linalg as LA\n",
    "from pyblas.level1 import dnrm2\n",
    "\n",
    "sys.path.insert(0, os.path.join(\"..\"))\n",
    "%load_ext autoreload\n",
    "%autoreload 2"
   ]
  },
  {
   "cell_type": "code",
   "execution_count": 43,
   "id": "567f9b54-62b3-4762-a90f-162c3f517676",
   "metadata": {},
   "outputs": [],
   "source": [
    "from lib import problems as pr\n",
    "from lib import optimisers as opt\n",
    "from lib import utils as ut"
   ]
  },
  {
   "cell_type": "markdown",
   "id": "7a01ac03-0786-4d39-83ea-cc2a8ef97ab1",
   "metadata": {},
   "source": [
    "**Data generation**"
   ]
  },
  {
   "cell_type": "code",
   "execution_count": 106,
   "id": "4d8df82c-f079-4daa-83db-7c0c0f5c6826",
   "metadata": {},
   "outputs": [],
   "source": [
    "sys.path.insert(0, os.path.join(\"..\", \"tdlearn\"))"
   ]
  },
  {
   "cell_type": "code",
   "execution_count": 107,
   "id": "7ffad45a-32ee-4285-8cfd-1536ffd05b26",
   "metadata": {},
   "outputs": [],
   "source": [
    "sys.path.insert(0, os.path.join(\"..\", \"tdlearn\", \"util\"))"
   ]
  },
  {
   "cell_type": "code",
   "execution_count": 108,
   "id": "b53d7d10-4e58-409c-856a-6b1977c3fde8",
   "metadata": {},
   "outputs": [],
   "source": [
    "# repo from https://github.com/chrodan/tdlearn\n",
    "from tdlearn import examples\n",
    "from tdlearn import features\n",
    "from tdlearn import policies"
   ]
  },
  {
   "cell_type": "code",
   "execution_count": 6,
   "id": "3d17ae0e-2c78-4190-a6a7-ebb96d76e4cf",
   "metadata": {},
   "outputs": [],
   "source": [
    "n = 400 # |S|\n",
    "n_a = 10\n",
    "n_feat = 200 # d\n",
    "mdp = examples.RandomMDP(n, n_a)\n",
    "phi = features.lin_random(n_feat, n, constant=True)\n",
    "gamma = .95\n",
    "np.random.seed(3)\n",
    "beh_pol = policies.Discrete(np.random.rand(n, n_a))\n",
    "tar_pol = policies.Discrete(np.random.rand(n, n_a))"
   ]
  },
  {
   "cell_type": "code",
   "execution_count": 7,
   "id": "f97f573d-8da6-485a-959a-26c67c9274f5",
   "metadata": {},
   "outputs": [],
   "source": [
    "from task import LinearDiscreteValuePredictionTask\n",
    "\n",
    "task = LinearDiscreteValuePredictionTask(mdp, gamma, phi, np.zeros(phi.dim),\n",
    "                                         policy=beh_pol, target_policy=tar_pol)"
   ]
  },
  {
   "cell_type": "code",
   "execution_count": 10,
   "id": "d3a76137-a046-4aec-bf0c-0f6b6c69be7d",
   "metadata": {},
   "outputs": [],
   "source": [
    "Phi = task.Phi"
   ]
  },
  {
   "cell_type": "markdown",
   "id": "db1295a7-1b21-48b5-8475-f56c89b41881",
   "metadata": {
    "jp-MarkdownHeadingCollapsed": true,
    "tags": []
   },
   "source": [
    "### Check the equal methods of multidim dot"
   ]
  },
  {
   "cell_type": "code",
   "execution_count": 62,
   "id": "b215f961-e3fa-468d-9893-12f84c9b2fbe",
   "metadata": {},
   "outputs": [],
   "source": [
    "_C = np.zeros((n_feat, n_feat))\n",
    "for s in range(n):\n",
    "    _C += Phi[s].T.dot(Phi[s])"
   ]
  },
  {
   "cell_type": "code",
   "execution_count": 64,
   "id": "79d75202-1d22-48cc-9493-c40b168df9f7",
   "metadata": {},
   "outputs": [
    {
     "data": {
      "text/plain": [
       "array([[132.3901114 ,  97.76274183, 102.33712169, ..., 101.92788541,\n",
       "         97.90852101, 198.62850564],\n",
       "       [ 97.76274183, 133.84740882, 105.41928405, ..., 103.89166623,\n",
       "        101.36922797, 199.80451165],\n",
       "       [102.33712169, 105.41928405, 140.99246525, ..., 106.10621796,\n",
       "        107.04401561, 207.82468526],\n",
       "       ...,\n",
       "       [101.92788541, 103.89166623, 106.10621796, ..., 138.4972571 ,\n",
       "        103.59722151, 203.98860115],\n",
       "       [ 97.90852101, 101.36922797, 107.04401561, ..., 103.59722151,\n",
       "        138.57030077, 204.7450469 ],\n",
       "       [198.62850564, 199.80451165, 207.82468526, ..., 203.98860115,\n",
       "        204.7450469 , 400.        ]])"
      ]
     },
     "execution_count": 64,
     "metadata": {},
     "output_type": "execute_result"
    }
   ],
   "source": [
    "_C"
   ]
  },
  {
   "cell_type": "code",
   "execution_count": 54,
   "id": "db8dd735-c7ab-40f3-90f7-862ee6a6f3b6",
   "metadata": {},
   "outputs": [],
   "source": [
    "C = np.tensordot(Phi[:, None, :], Phi[..., None], axes=([0,1], [0,2]))"
   ]
  },
  {
   "cell_type": "code",
   "execution_count": 67,
   "id": "eb11f985-11aa-4c09-9593-c1226f7d1ea6",
   "metadata": {},
   "outputs": [
    {
     "data": {
      "text/plain": [
       "True"
      ]
     },
     "execution_count": 67,
     "metadata": {},
     "output_type": "execute_result"
    }
   ],
   "source": [
    "np.isclose(C,_C).all()"
   ]
  },
  {
   "cell_type": "markdown",
   "id": "fbd2ba70-7909-45d3-b1e4-f3d209f99da9",
   "metadata": {},
   "source": [
    "### Experiment setting"
   ]
  },
  {
   "cell_type": "code",
   "execution_count": 44,
   "id": "e9705a16-a18e-4b77-9d5b-9959afbd51ae",
   "metadata": {},
   "outputs": [],
   "source": [
    "_states, _actions, _n_states, _rewards = [], [], [], []\n",
    "for s, a, _s, r in task.mdp.sample_transition(max_n=n, policy=beh_pol, seed=None,\n",
    "                                    with_restart=True, s_start=None):\n",
    "    _states.append(s)\n",
    "    _actions.append(a)\n",
    "    _n_states.append(_s)\n",
    "    _rewards.append(r)"
   ]
  },
  {
   "cell_type": "code",
   "execution_count": 45,
   "id": "056f37a1-74f1-487a-abdb-4bc333047980",
   "metadata": {},
   "outputs": [],
   "source": [
    "C = np.tensordot(Phi[_states, None, :], Phi[_states, :, None], axes=([0,1], [0,2]))"
   ]
  },
  {
   "cell_type": "code",
   "execution_count": 46,
   "id": "0561d59d-112c-4f1c-aa81-5b5150b9b787",
   "metadata": {},
   "outputs": [],
   "source": [
    "b = np.asarray(np.array(_rewards).dot(Phi[_states, :]))"
   ]
  },
  {
   "cell_type": "code",
   "execution_count": 47,
   "id": "89aac225-a48f-48c3-b4e6-f4749fd30bc1",
   "metadata": {},
   "outputs": [],
   "source": [
    "B = C - gamma*np.tensordot(Phi[_states, None, :], \n",
    "                           Phi[np.hstack([_states[1:], _states[-1]]), :, None], axes=([0,1], [0,2]))"
   ]
  },
  {
   "cell_type": "code",
   "execution_count": 148,
   "id": "61bfdab6-7df1-4bbf-9b84-d2b1c8b2e229",
   "metadata": {},
   "outputs": [],
   "source": [
    "import lib.utils as ut\n",
    "\n",
    "\n",
    "class RL_problem(pr.BaseSaddle):\n",
    "    def __init__(self, B, C, b, rho=1.):\n",
    "        L_xy = 1\n",
    "        mu_xy = 0.25\n",
    "        mu_yx = 0.25\n",
    "        A = -B\n",
    "        super().__init__(A=A)\n",
    "        self.A = A\n",
    "        spectrum = LA.eig(self.A.T.dot(self.A))[0]\n",
    "        self.L_xy = spectrum.real.max()**.5\n",
    "        self.mu_yx = np.abs(spectrum).min()**.5 \n",
    "        self.mu_xy = np.abs(LA.eig(self.A.dot(self.A.T))[0]).min()**.5\n",
    "        self.C = C\n",
    "        self.C_inv = LA.inv(self.C)\n",
    "        self.b = b\n",
    "        n = self.A.shape[0]\n",
    "        \n",
    "        self.rho = rho\n",
    "        self.f = lambda x: self.rho*0.5*x.transpose() @ x\n",
    "        self.g = lambda y:  0.5*y.transpose() @ self.C @ y - self.b.transpose().squeeze() @ y\n",
    "        self.L_x = self.rho\n",
    "        self.mu_x = self.rho\n",
    "        \n",
    "        spectrum = LA.svd(self.C)[1]\n",
    "        self.L_y = spectrum.real.max()\n",
    "        self.mu_y = np.abs(spectrum).min() \n",
    "        if self.rho == 0:\n",
    "            self.yopt = LA.solve(self.A.transpose(), np.zeros((n, 1))) \n",
    "            self.xopt = LA.solve(self.A, self.C.dot(self.yopt) - self.b)\n",
    "        else:\n",
    "            self.yopt = LA.solve(self.C + 1/self.rho*self.A @ self.A.T, self.b) \n",
    "            self.xopt = LA.solve(np.eye(n), -1/self.rho * self.A.T.dot(self.yopt))\n",
    "            \n",
    "        self.constraint=False   \n",
    "        self.grad_f = grad(self.f)\n",
    "        self.grad_g = grad(self.g)  \n",
    "        self.d2fdxdx = grad(self.grad_f)\n",
    "        self.F = lambda x, y: self.f(x) + y.T @ self.A @ x - self.g(y)\n",
    "        self.dFdx = grad(self.F)\n",
    "        self.dFdy = grad(self.F, 1)\n",
    "        \n",
    "    def MSPBE_loss(self, x, y):\n",
    "        return 0.5 * ((self.A.dot(x) - self.b.squeeze()).T.dot(self.C_inv).dot(self.A.dot(x) - self.b.squeeze()))"
   ]
  },
  {
   "cell_type": "code",
   "execution_count": 151,
   "id": "63c96b4a-6328-4916-ab52-7dfe05880b89",
   "metadata": {},
   "outputs": [
    {
     "name": "stdout",
     "output_type": "stream",
     "text": [
      "789.503794451735\n"
     ]
    },
    {
     "name": "stderr",
     "output_type": "stream",
     "text": [
      "APDG: 100%|█████████████████████████████████████████████████████████████████████████| 200/200 [00:00<00:00, 697.48it/s]\n",
      "AltGD:  14%|██████████▏                                                              | 28/200 [00:00<00:00, 270.47it/s]C:\\Users\\Georgy\\Anaconda3\\envs\\pytorch_env\\lib\\site-packages\\ipykernel_launcher.py:23: RuntimeWarning: overflow encountered in matmul\n",
      "C:\\Users\\Georgy\\Anaconda3\\envs\\pytorch_env\\lib\\site-packages\\autograd\\tracer.py:48: RuntimeWarning: overflow encountered in matmul\n",
      "  return f_raw(*args, **kwargs)\n",
      "C:\\Users\\Georgy\\Anaconda3\\envs\\pytorch_env\\lib\\site-packages\\autograd\\tracer.py:48: RuntimeWarning: invalid value encountered in add\n",
      "  return f_raw(*args, **kwargs)\n",
      "C:\\Users\\Georgy\\Anaconda3\\envs\\pytorch_env\\lib\\site-packages\\ipykernel_launcher.py:22: RuntimeWarning: overflow encountered in matmul\n",
      "C:\\Users\\Georgy\\Anaconda3\\envs\\pytorch_env\\lib\\site-packages\\autograd\\tracer.py:48: RuntimeWarning: invalid value encountered in subtract\n",
      "  return f_raw(*args, **kwargs)\n",
      "AltGD:  28%|████████████████████▍                                                    | 56/200 [00:00<00:00, 270.46it/s]C:\\Users\\Georgy\\Anaconda3\\envs\\pytorch_env\\lib\\site-packages\\ipykernel_launcher.py:23: RuntimeWarning: invalid value encountered in double_scalars\n",
      "C:\\Users\\Georgy\\Anaconda3\\envs\\pytorch_env\\lib\\site-packages\\autograd\\tracer.py:48: RuntimeWarning: overflow encountered in multiply\n",
      "  return f_raw(*args, **kwargs)\n",
      "C:\\Users\\Georgy\\Anaconda3\\envs\\pytorch_env\\lib\\site-packages\\autograd\\numpy\\numpy_vjps.py:35: RuntimeWarning: overflow encountered in multiply\n",
      "  lambda ans, x, y : unbroadcast_f(y, lambda g: x * g))\n",
      "C:\\Users\\Georgy\\Anaconda3\\envs\\pytorch_env\\lib\\site-packages\\ipykernel_launcher.py:22: RuntimeWarning: overflow encountered in multiply\n",
      "C:\\Users\\Georgy\\Anaconda3\\envs\\pytorch_env\\lib\\site-packages\\ipykernel_launcher.py:41: RuntimeWarning: invalid value encountered in matmul\n",
      "C:\\Users\\Georgy\\Anaconda3\\envs\\pytorch_env\\lib\\site-packages\\ipykernel_launcher.py:23: RuntimeWarning: invalid value encountered in matmul\n",
      "C:\\Users\\Georgy\\Anaconda3\\envs\\pytorch_env\\lib\\site-packages\\autograd\\tracer.py:48: RuntimeWarning: invalid value encountered in matmul\n",
      "  return f_raw(*args, **kwargs)\n",
      "C:\\Users\\Georgy\\Anaconda3\\envs\\pytorch_env\\lib\\site-packages\\autograd\\core.py:213: RuntimeWarning: invalid value encountered in add\n",
      "  def _mut_add(self, x, y):    x += y; return x\n",
      "C:\\Users\\Georgy\\Anaconda3\\envs\\pytorch_env\\lib\\site-packages\\autograd\\core.py:212: RuntimeWarning: invalid value encountered in add\n",
      "  def _add(self, x, y):        return x + y\n",
      "AltGD: 100%|████████████████████████████████████████████████████████████████████████| 200/200 [00:00<00:00, 278.71it/s]\n",
      "EG:  14%|███████████                                                                 | 29/200 [00:00<00:00, 285.62it/s]C:\\Users\\Georgy\\Anaconda3\\envs\\pytorch_env\\lib\\site-packages\\ipykernel_launcher.py:41: RuntimeWarning: overflow encountered in matmul\n",
      "EG: 100%|███████████████████████████████████████████████████████████████████████████| 200/200 [00:00<00:00, 263.47it/s]\n",
      "OMD: 100%|██████████████████████████████████████████████████████████████████████████| 200/200 [00:00<00:00, 488.82it/s]\n",
      "SimGD: 100%|████████████████████████████████████████████████████████████████████████| 200/200 [00:00<00:00, 429.81it/s]\n"
     ]
    }
   ],
   "source": [
    "A=-B\n",
    "RHO = LA.svd(A.T.dot(LA.inv(C)).dot(A))[1].max()\n",
    "print(RHO)\n",
    "problem_RL = RL_problem(B=B,C=C, b=b.T, rho=RHO)\n",
    "params = {\"apdg\": None,\n",
    "          'altgd': 0.1,\n",
    "          'simgd': 0.05,\n",
    "          'avg': 1,\n",
    "          'eg':0.6,\n",
    "          'omd':0.3,\n",
    "          'AA': 0.5\n",
    "         }\n",
    " # {'simgd':0.05, 'altgd':0.1, 'avg':1, 'adam':0.01, 'eg':0.6,'omd':0.3, 'fr':0.05,'AA':0.5}\n",
    "\n",
    "x0 = np.ones(n_feat, )\n",
    "y0 = np.ones(n_feat, )\n",
    "type2=True\n",
    "iteration = 200\n",
    "k =  100\n",
    "methods_dict = ut.main(problem_RL, iteration, x0.copy(), y0.copy(), params, k=k)"
   ]
  },
  {
   "cell_type": "code",
   "execution_count": 154,
   "id": "fb57bc43-cd49-4532-b7c3-9953467adf0a",
   "metadata": {},
   "outputs": [
    {
     "data": {
      "text/plain": [
       "<matplotlib.legend.Legend at 0x1d4d9031f88>"
      ]
     },
     "execution_count": 154,
     "metadata": {},
     "output_type": "execute_result"
    },
    {
     "data": {
      "image/png": "[encoded data removed]",
      "text/plain": [
       "<Figure size 640x480 with 1 Axes>"
      ]
     },
     "metadata": {},
     "output_type": "display_data"
    }
   ],
   "source": [
    "%matplotlib inline\n",
    "plot_interval = 1\n",
    "for method in methods_dict:\n",
    "    if method not in [\"EG\", \"OMD\", \"SimGD\", \"AltGD\"]:\n",
    "        plt.semilogy(np.arange(0, iteration+plot_interval, plot_interval),\n",
    "                     methods_dict[method][\"loss_hist\"][::plot_interval],\n",
    "                     methods_dict[method][\"marker\"],\n",
    "                     markevery=markevery,\n",
    "                     label=method\n",
    "                    )\n",
    "plt.legend()"
   ]
  },
  {
   "cell_type": "code",
   "execution_count": 156,
   "id": "7a9fefeb-4df0-4f31-b0a5-476a460e792e",
   "metadata": {},
   "outputs": [
    {
     "data": {
      "text/latex": [
       "$L_{xy}$ = 1051.93461,$\\mu_{xy}$ = 0.00000,$\\mu_{yx}$ = 0.00000"
      ],
      "text/plain": [
       "<IPython.core.display.Latex object>"
      ]
     },
     "metadata": {},
     "output_type": "display_data"
    },
    {
     "data": {
      "text/latex": [
       "$L_{x}$ = 789.50379,$\\mu_{x}$ = 789.50379"
      ],
      "text/plain": [
       "<IPython.core.display.Latex object>"
      ]
     },
     "metadata": {},
     "output_type": "display_data"
    },
    {
     "data": {
      "text/latex": [
       "$L_{y}$ = 20324.53068,$\\mu_{y}$ = 0.00000"
      ],
      "text/plain": [
       "<IPython.core.display.Latex object>"
      ]
     },
     "metadata": {},
     "output_type": "display_data"
    },
    {
     "data": {
      "text/latex": [
       "$\\sqrt{\\frac{L_x}{\\mu_{x}}}$ = 1.00000$\\sqrt{\\frac{L_y}{\\mu_{y}}}$ = 100204933.62099$\\frac{L_{xy}}{\\sqrt{\\mu_{x} \\mu_y}}$ = 26314218.30015"
      ],
      "text/plain": [
       "<IPython.core.display.Latex object>"
      ]
     },
     "metadata": {},
     "output_type": "display_data"
    },
    {
     "data": {
      "text/latex": [
       "$\\frac{\\sqrt{L_x L_y}}{\\mu_{xy}}$ = 2673396816.72494$\\frac{L_{xy}}{\\mu_{xy}}\\cdot\\sqrt{\\frac{L_x}{\\mu_{x}}}$ = 702044748.65781$\\frac{L_{xy}^2}{\\mu_{xy}^2}$ = 492866829118012672.00000"
      ],
      "text/plain": [
       "<IPython.core.display.Latex object>"
      ]
     },
     "metadata": {},
     "output_type": "display_data"
    },
    {
     "data": {
      "text/latex": [
       "$\\frac{\\sqrt{L_x L_y}}{\\mu_{yx}}$ = 3579802853.40431$\\frac{L_{xy}}{\\mu_{yx}}\\cdot\\sqrt{\\frac{L_y}{\\mu_{y}}}$ = 94199713755973056.00000$\\frac{L_{xy}^2}{\\mu_{yx}^2}$ = 883732764579860864.00000"
      ],
      "text/plain": [
       "<IPython.core.display.Latex object>"
      ]
     },
     "metadata": {},
     "output_type": "display_data"
    },
    {
     "data": {
      "text/latex": [
       "$\\frac{\\sqrt{L_x L_y} L_{xy}}{\\mu_{xy}\\mu_{yx}}$ = 2673396816.72494$\\frac{L_{xy}^2}{\\mu_{yx}^2}$ = 883732764579860864.00000$\\frac{L_{xy}^2}{\\mu_{xy}^2}$ = 492866829118012672.00000"
      ],
      "text/plain": [
       "<IPython.core.display.Latex object>"
      ]
     },
     "metadata": {},
     "output_type": "display_data"
    },
    {
     "data": {
      "text/latex": [
       "$\\sigma_x$ = 0.707107\n",
       "$\\sigma_y$ = 0.000000\n",
       "$\\theta$ = 1.000000\n",
       "$\\tau_x$ = 0.522408\n",
       "$\\tau_y$ = 0.000000\n",
       "$\\eta_x$ = 0.000000\n",
       "$\\eta_y$ = 1743.105122\n",
       "$\\alpha_x$ = 789.503794\n",
       "$\\alpha_y$ = 0.000000\n",
       "$\\beta_x$ = 0.000025\n",
       "$\\beta_y$ = 0.000000\n"
      ],
      "text/plain": [
       "<IPython.core.display.Latex object>"
      ]
     },
     "metadata": {},
     "output_type": "display_data"
    }
   ],
   "source": [
    "ut.display_constants(problem_RL)"
   ]
  },
  {
   "cell_type": "code",
   "execution_count": 157,
   "id": "4c0790a5-94e7-4a22-ab34-37fed8fc50e2",
   "metadata": {},
   "outputs": [
    {
     "data": {
      "text/plain": [
       "2.024148246475956e-12"
      ]
     },
     "execution_count": 157,
     "metadata": {},
     "output_type": "execute_result"
    }
   ],
   "source": [
    "problem_RL.mu_y"
   ]
  },
  {
   "cell_type": "code",
   "execution_count": 158,
   "id": "7b7f2a9f-9be3-40b2-9380-388bd3a26a90",
   "metadata": {},
   "outputs": [
    {
     "data": {
      "text/plain": [
       "1.4983868300952425e-06"
      ]
     },
     "execution_count": 158,
     "metadata": {},
     "output_type": "execute_result"
    }
   ],
   "source": [
    "problem_RL.mu_xy"
   ]
  },
  {
   "cell_type": "code",
   "execution_count": 159,
   "id": "6fbedce4-59ff-4f48-ba18-06822487e599",
   "metadata": {},
   "outputs": [
    {
     "data": {
      "text/plain": [
       "1.1189953038865788e-06"
      ]
     },
     "execution_count": 159,
     "metadata": {},
     "output_type": "execute_result"
    }
   ],
   "source": [
    "problem_RL.mu_yx"
   ]
  },
  {
   "cell_type": "code",
   "execution_count": null,
   "id": "1ce14963-1604-4cf3-b88c-6c65c1007020",
   "metadata": {},
   "outputs": [],
   "source": []
  }
 ],
 "metadata": {
  "kernelspec": {
   "display_name": "Python 3",
   "language": "python",
   "name": "python3"
  },
  "language_info": {
   "codemirror_mode": {
    "name": "ipython",
    "version": 3
   },
   "file_extension": ".py",
   "mimetype": "text/x-python",
   "name": "python",
   "nbconvert_exporter": "python",
   "pygments_lexer": "ipython3",
   "version": "3.7.12"
  }
 },
 "nbformat": 4,
 "nbformat_minor": 5
}
