{
 "cells": [
  {
   "cell_type": "code",
   "execution_count": 1,
   "id": "4393a9de-77b5-4716-bcbf-e3d7b2588a31",
   "metadata": {},
   "outputs": [],
   "source": [
    "from typing import List, Optional\n",
    "from autograd import grad, jacobian, elementwise_grad\n",
    "import autograd.numpy as np\n",
    "import matplotlib.pyplot as plt\n",
    "import sys, os\n",
    "from tqdm import tqdm\n",
    "import math\n",
    "import scipy \n",
    "from scipy import linalg\n",
    "from numpy import linalg as LA\n",
    "from pyblas.level1 import dnrm2\n",
    "\n",
    "sys.path.insert(0, os.path.join(\"..\"))\n",
    "%load_ext autoreload\n",
    "%autoreload 2"
   ]
  },
  {
   "cell_type": "code",
   "execution_count": 2,
   "id": "569fb3b5-8447-4720-ade5-8269af757367",
   "metadata": {},
   "outputs": [],
   "source": [
    "from lib import problems as pr\n",
    "from lib import optimisers as opt\n",
    "from lib import utils as ut"
   ]
  },
  {
   "cell_type": "code",
   "execution_count": 11,
   "id": "a81261e9-177d-4e06-9353-0d5920468299",
   "metadata": {},
   "outputs": [
    {
     "name": "stderr",
     "output_type": "stream",
     "text": [
      "APDG: 100%|█████████████████████████████████████████████████████████████████████████| 100/100 [00:00<00:00, 534.85it/s]\n",
      "AltGD: 100%|████████████████████████████████████████████████████████████████████████| 100/100 [00:00<00:00, 124.94it/s]\n",
      "EG: 100%|███████████████████████████████████████████████████████████████████████████| 100/100 [00:00<00:00, 107.06it/s]\n",
      "OMD: 100%|██████████████████████████████████████████████████████████████████████████| 100/100 [00:00<00:00, 211.46it/s]\n",
      "AltGDA-AM: 100%|█████████████████████████████████████████████████████████████████████| 100/100 [00:01<00:00, 97.96it/s]\n",
      "SimGD: 100%|████████████████████████████████████████████████████████████████████████| 100/100 [00:00<00:00, 211.30it/s]\n"
     ]
    },
    {
     "ename": "IndexError",
     "evalue": "tuple index out of range",
     "output_type": "error",
     "traceback": [
      "\u001b[1;31m---------------------------------------------------------------------------\u001b[0m",
      "\u001b[1;31mIndexError\u001b[0m                                Traceback (most recent call last)",
      "\u001b[1;32m<ipython-input-11-71ce20ef21e1>\u001b[0m in \u001b[0;36m<module>\u001b[1;34m\u001b[0m\n\u001b[0;32m     38\u001b[0m \u001b[0mz\u001b[0m \u001b[1;33m=\u001b[0m \u001b[0mz\u001b[0m\u001b[1;33m(\u001b[0m\u001b[0mx\u001b[0m\u001b[1;33m,\u001b[0m \u001b[0my\u001b[0m\u001b[1;33m)\u001b[0m\u001b[1;33m\u001b[0m\u001b[1;33m\u001b[0m\u001b[0m\n\u001b[0;32m     39\u001b[0m \u001b[0mdz_dx\u001b[0m \u001b[1;33m=\u001b[0m \u001b[0melementwise_grad\u001b[0m\u001b[1;33m(\u001b[0m\u001b[0mf\u001b[0m\u001b[1;33m,\u001b[0m \u001b[0margnum\u001b[0m\u001b[1;33m=\u001b[0m\u001b[1;36m0\u001b[0m\u001b[1;33m)\u001b[0m\u001b[1;33m(\u001b[0m\u001b[0mx\u001b[0m\u001b[1;33m)\u001b[0m\u001b[1;33m\u001b[0m\u001b[1;33m\u001b[0m\u001b[0m\n\u001b[1;32m---> 40\u001b[1;33m \u001b[0mdz_dy\u001b[0m \u001b[1;33m=\u001b[0m \u001b[0melementwise_grad\u001b[0m\u001b[1;33m(\u001b[0m\u001b[0mg\u001b[0m\u001b[1;33m,\u001b[0m \u001b[0margnum\u001b[0m\u001b[1;33m=\u001b[0m\u001b[1;36m1\u001b[0m\u001b[1;33m)\u001b[0m\u001b[1;33m(\u001b[0m\u001b[0my\u001b[0m\u001b[1;33m)\u001b[0m\u001b[1;33m\u001b[0m\u001b[1;33m\u001b[0m\u001b[0m\n\u001b[0m\u001b[0;32m     41\u001b[0m ut.plot(x, y, z, dz_dx, dz_dy, \n\u001b[0;32m     42\u001b[0m         \u001b[0mloss_f3\u001b[0m\u001b[1;33m,\u001b[0m \u001b[0mxpath_f3\u001b[0m\u001b[1;33m,\u001b[0m \u001b[0mypath_f3\u001b[0m\u001b[1;33m,\u001b[0m \u001b[0miteration\u001b[0m\u001b[1;33m,\u001b[0m \u001b[0mk\u001b[0m\u001b[1;33m,\u001b[0m\u001b[1;33m\u001b[0m\u001b[1;33m\u001b[0m\u001b[0m\n",
      "\u001b[1;32m~\\Anaconda3\\envs\\pytorch_env\\lib\\site-packages\\autograd\\wrap_util.py\u001b[0m in \u001b[0;36mnary_f\u001b[1;34m(*args, **kwargs)\u001b[0m\n\u001b[0;32m     15\u001b[0m                 \u001b[1;32mreturn\u001b[0m \u001b[0mfun\u001b[0m\u001b[1;33m(\u001b[0m\u001b[1;33m*\u001b[0m\u001b[0msubargs\u001b[0m\u001b[1;33m,\u001b[0m \u001b[1;33m**\u001b[0m\u001b[0mkwargs\u001b[0m\u001b[1;33m)\u001b[0m\u001b[1;33m\u001b[0m\u001b[1;33m\u001b[0m\u001b[0m\n\u001b[0;32m     16\u001b[0m             \u001b[1;32mif\u001b[0m \u001b[0misinstance\u001b[0m\u001b[1;33m(\u001b[0m\u001b[0margnum\u001b[0m\u001b[1;33m,\u001b[0m \u001b[0mint\u001b[0m\u001b[1;33m)\u001b[0m\u001b[1;33m:\u001b[0m\u001b[1;33m\u001b[0m\u001b[1;33m\u001b[0m\u001b[0m\n\u001b[1;32m---> 17\u001b[1;33m                 \u001b[0mx\u001b[0m \u001b[1;33m=\u001b[0m \u001b[0margs\u001b[0m\u001b[1;33m[\u001b[0m\u001b[0margnum\u001b[0m\u001b[1;33m]\u001b[0m\u001b[1;33m\u001b[0m\u001b[1;33m\u001b[0m\u001b[0m\n\u001b[0m\u001b[0;32m     18\u001b[0m             \u001b[1;32melse\u001b[0m\u001b[1;33m:\u001b[0m\u001b[1;33m\u001b[0m\u001b[1;33m\u001b[0m\u001b[0m\n\u001b[0;32m     19\u001b[0m                 \u001b[0mx\u001b[0m \u001b[1;33m=\u001b[0m \u001b[0mtuple\u001b[0m\u001b[1;33m(\u001b[0m\u001b[0margs\u001b[0m\u001b[1;33m[\u001b[0m\u001b[0mi\u001b[0m\u001b[1;33m]\u001b[0m \u001b[1;32mfor\u001b[0m \u001b[0mi\u001b[0m \u001b[1;32min\u001b[0m \u001b[0margnum\u001b[0m\u001b[1;33m)\u001b[0m\u001b[1;33m\u001b[0m\u001b[1;33m\u001b[0m\u001b[0m\n",
      "\u001b[1;31mIndexError\u001b[0m: tuple index out of range"
     ]
    }
   ],
   "source": [
    "%matplotlib inline\n",
    "\n",
    "figname = 'DA_comparison.png'\n",
    "FIG_DIR = os.path.join(\"..\", \"figures\")\n",
    "if not os.path.exists(FIG_DIR):\n",
    "    os.mkdir(FIG_DIR)\n",
    "    \n",
    "k = 5\n",
    "markevery= 10\n",
    "x0, y0 = np.array([10.]),np.array([10.])\n",
    "A = np.eye(1, 1)*2.5\n",
    "\n",
    "problem = pr.func2(A=A)\n",
    "xopt, yopt = problem.xopt, problem.yopt\n",
    "params = {\"apdg\": None,\n",
    "          'altgd': 0.1,\n",
    "          'simgd': 0.05,\n",
    "          'avg': 1,\n",
    "          'eg':0.6,\n",
    "          'omd':0.3,\n",
    "          'AA': 0.5\n",
    "         }\n",
    "xmin, xmax, xstep = (-10, 10, .2)\n",
    "ymin, ymax, ystep = (-10, 10, .2)\n",
    " # {'simgd':0.05, 'altgd':0.1, 'avg':1, 'adam':0.01, 'eg':0.6,'omd':0.3, 'fr':0.05,'AA':0.5}\n",
    "f = problem.f\n",
    "g = problem.g\n",
    "\n",
    "type2=True\n",
    "iteration = 100\n",
    "loss_f3, xpath_f3, ypath_f3 = ut.main(problem, iteration, \n",
    "                                      x0.copy(), y0.copy(), \n",
    "                                      params, k=k,         \n",
    "                                      one_dim=True)\n",
    "\n",
    "x, y = np.meshgrid(np.arange(xmin, xmax + xstep, xstep), np.arange(ymin, ymax + ystep, ystep))\n",
    "z = lambda x, y: f(x) - g(y) + y * A * x\n",
    "z = z(x, y)\n",
    "dz_dx = elementwise_grad(f, argnum=0)(x)\n",
    "dz_dy = elementwise_grad(g, argnum=0)(y)\n",
    "ut.plot(x, y, z, dz_dx, dz_dy, \n",
    "        loss_f3, xpath_f3, ypath_f3, iteration, k, \n",
    "        start=(x0, y0), solution=(xopt, yopt), \n",
    "        ranges={\"x\": (-10, 10, .2),\n",
    "                \"y\": (-10, 10, .2)\n",
    "               }, figname=figname,\n",
    "        fig_dir=FIG_DIR, markevery=10\n",
    "       )"
   ]
  },
  {
   "cell_type": "code",
   "execution_count": null,
   "id": "40effc0e-e23c-4a58-bb07-4f7e6db0e333",
   "metadata": {},
   "outputs": [],
   "source": []
  }
 ],
 "metadata": {
  "kernelspec": {
   "display_name": "Python 3",
   "language": "python",
   "name": "python3"
  },
  "language_info": {
   "codemirror_mode": {
    "name": "ipython",
    "version": 3
   },
   "file_extension": ".py",
   "mimetype": "text/x-python",
   "name": "python",
   "nbconvert_exporter": "python",
   "pygments_lexer": "ipython3",
   "version": "3.7.12"
  }
 },
 "nbformat": 4,
 "nbformat_minor": 5
}
